{
 "cells": [
  {
   "cell_type": "code",
   "execution_count": 2,
   "id": "57fdc97a",
   "metadata": {},
   "outputs": [
    {
     "name": "stdout",
     "output_type": "stream",
     "text": [
      "       Tag                                       Scraped_Data\n",
      "0        a                                                   \n",
      "1       h1                                       Web scraping\n",
      "2        a                                 Jump to navigation\n",
      "3        a                                     Jump to search\n",
      "4    table  This article needs additional citations for ve...\n",
      "..     ...                                                ...\n",
      "409      a                                         Developers\n",
      "410      a                                         Statistics\n",
      "411      a                                   Cookie statement\n",
      "412      a                                                   \n",
      "413      a                                                   \n",
      "\n",
      "[414 rows x 2 columns]\n"
     ]
    }
   ],
   "source": [
    "import requests\n",
    "from bs4 import BeautifulSoup as bs\n",
    "import pandas as pd\n",
    "tags = []\n",
    "dataa = []\n",
    "page = requests.get(\"https://en.wikipedia.org/wiki/Web_scraping\")\n",
    "soup = bs(page.text, \"html.parser\")\n",
    "\n",
    "for h in soup.find_all([\"h1\",\"h2\",\"p\",\"a\",\"table\"]):\n",
    "    dataa.append(h.text)\n",
    "    tags.append(h.name)\n",
    "df = pd.DataFrame({'Tag':tags,'Scraped_Data':dataa})\n",
    "print(df)\n",
    "df.to_csv(\"Scraped_data.csv\")"
   ]
  },
  {
   "cell_type": "code",
   "execution_count": null,
   "id": "d20bfe12",
   "metadata": {},
   "outputs": [],
   "source": []
  }
 ],
 "metadata": {
  "kernelspec": {
   "display_name": "Python 3",
   "language": "python",
   "name": "python3"
  },
  "language_info": {
   "codemirror_mode": {
    "name": "ipython",
    "version": 3
   },
   "file_extension": ".py",
   "mimetype": "text/x-python",
   "name": "python",
   "nbconvert_exporter": "python",
   "pygments_lexer": "ipython3",
   "version": "3.8.8"
  }
 },
 "nbformat": 4,
 "nbformat_minor": 5
}
